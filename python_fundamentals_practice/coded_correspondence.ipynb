{
 "cells": [
  {
   "cell_type": "markdown",
   "metadata": {},
   "source": [
    "# Coded Correspondence: Decoding Cyphers\n",
    "\n",
    "The goal of this project is to code and decode messages in various cyphers. The purpose of this project is to practice proper use of Python syntax, functions, control flow, lists, loops, and string logic.\n",
    "\n",
    "### Caesar Cipher\n",
    "\n",
    "Here's how it works: You take your message, something like \"hello\" and then you shift all of the letters by a certain offset. For example, if I chose an offset of 3 and a message of \"hello\", I would code my message by shifting each letter 3 places to the left (with respect to the alphabet). So \"h\" becomes \"e\", \"e\" becomes, \"b\", \"l\" becomes \"i\", and \"o\" becomes \"l\". Then I have my coded message,\"ebiil\". Now I can send the message and the offset and it can be decoded. Julius Caesar himself used this cipher! Here is a longer coded message to decode.\n",
    "    \n",
    "        xuo jxuhu! jxyi yi qd unqcfbu ev q squiqh syfxuh. muhu oek qrbu je tusetu yj? y xefu ie! iudt cu q cuiiqwu rqsa myjx jxu iqcu evviuj!\n",
    "    \n",
    "    This message has an offset of 10. \n",
    "    \n",
    "#### Step 1: Decode the Message"
   ]
  },
  {
   "cell_type": "code",
   "execution_count": 25,
   "metadata": {},
   "outputs": [
    {
     "name": "stdout",
     "output_type": "stream",
     "text": [
      "hey there! this is an example of a caesar cipher. were you able to decode it? i hope so! send me a message back with the same offset!\n"
     ]
    }
   ],
   "source": [
    "def decoder(phrase, offset):\n",
    "    decoded = \"\"\n",
    "    alphabet = ['a', 'b', 'c', 'd', 'e', 'f', 'g', 'h', 'i', 'j', 'k', 'l', 'm', 'n', 'o', 'p', 'q', 'r', 's', 't', 'u', 'v', 'w', 'x', 'y', 'z']\n",
    "    split = list(phrase)\n",
    "    \n",
    "    for char in split:\n",
    "        if char == \" \":\n",
    "            decoded += \" \"\n",
    "        elif char == \"!\":\n",
    "            decoded += \"!\"\n",
    "        elif char == \"?\":\n",
    "            decoded += \"?\"\n",
    "        elif char == \".\":\n",
    "            decoded += \".\"\n",
    "        elif char == \"'\":\n",
    "            decoded += \"'\"\n",
    "        else:\n",
    "            index = alphabet.index(char)\n",
    "            if index + offset > 25:\n",
    "                new_index = ((index + offset)%25)-1\n",
    "                decoded += alphabet[new_index]\n",
    "            else:\n",
    "                decoded += alphabet[index + offset]\n",
    "    \n",
    "    return decoded\n",
    "\n",
    "code = \"xuo jxuhu! jxyi yi qd unqcfbu ev q squiqh syfxuh. muhu oek qrbu je tusetu yj? y xefu ie! iudt cu q cuiiqwu rqsa myjx jxu iqcu evviuj!\"\n",
    "print(decoder(code, 10))"
   ]
  },
  {
   "cell_type": "markdown",
   "metadata": {},
   "source": [
    "#### Step 2: Send a Coded Message\n",
    "Use the same offset"
   ]
  },
  {
   "cell_type": "code",
   "execution_count": 13,
   "metadata": {},
   "outputs": [
    {
     "name": "stdout",
     "output_type": "stream",
     "text": [
      "xemi yj weydw?! co dqcu yi iuqd qdt y dqybut jxyi y jxyda\n"
     ]
    }
   ],
   "source": [
    "def coder(phrase, offset):\n",
    "    coded = \"\"\n",
    "    alphabet = ['a', 'b', 'c', 'd', 'e', 'f', 'g', 'h', 'i', 'j', 'k', 'l', 'm', 'n', 'o', 'p', 'q', 'r', 's', 't', 'u', 'v', 'w', 'x', 'y', 'z']\n",
    "    split = list(phrase)\n",
    "    \n",
    "    for char in split:\n",
    "        if char == \" \":\n",
    "            coded += \" \"\n",
    "        elif char == \"!\":\n",
    "            coded += \"!\"\n",
    "        elif char == \"?\":\n",
    "            coded += \"?\"\n",
    "        elif char == \".\":\n",
    "            coded += \".\"\n",
    "        else:\n",
    "            index = alphabet.index(char)\n",
    "            coded += alphabet[index - offset]\n",
    "    \n",
    "    return coded\n",
    "\n",
    "sentence = \"hows it going?! my name is sean and i nailed this i think\"\n",
    "print(coder(sentence, 10))"
   ]
  },
  {
   "cell_type": "markdown",
   "metadata": {},
   "source": [
    "#### Step 3: Use my functions for decoding and coding \n",
    "\n",
    "Here are two more messages, the first one is coded just like before with  an offset of ten, and it contains the hint for decoding the second message.\n",
    "    \n",
    "    First message:\n",
    "    \n",
    "        jxu evviuj veh jxu iusedt cuiiqwu yi vekhjuud.\n",
    "        \n",
    "    Second message:\n",
    "    \n",
    "        bqdradyuzs ygxfubxq omqemd oubtqde fa oapq kagd yqeemsqe ue qhqz yadq eqogdq!\n",
    "    \n",
    "Decode both of these messages. "
   ]
  },
  {
   "cell_type": "code",
   "execution_count": 15,
   "metadata": {},
   "outputs": [
    {
     "name": "stdout",
     "output_type": "stream",
     "text": [
      "the offset for the second message is fourteen.\n"
     ]
    }
   ],
   "source": [
    "message1 = \"jxu evviuj veh jxu iusedt cuiiqwu yi vekhjuud.\"\n",
    "print(decoder(message1, 10))"
   ]
  },
  {
   "cell_type": "code",
   "execution_count": 16,
   "metadata": {},
   "outputs": [
    {
     "name": "stdout",
     "output_type": "stream",
     "text": [
      "performing multiple caesar ciphers to code your messages is even more secure!\n"
     ]
    }
   ],
   "source": [
    "message2 = \"bqdradyuzs ygxfubxq omqemd oubtqde fa oapq kagd yqeemsqe ue qhqz yadq eqogdq!\"\n",
    "print(decoder(message2, 14))"
   ]
  },
  {
   "cell_type": "markdown",
   "metadata": {},
   "source": [
    "#### Step 4: Solving a Caesar Cipher without knowing the shift value\n",
    "\n",
    "This next coded message is coded with a Caesar Cipher but this time we do not know the value of the shift. I have to 'brute force it'.\n",
    "            \n",
    "            Here's the coded message:\n",
    "            \n",
    "            vhfinmxkl atox kxgwxkxw tee hy maxlx hew vbiaxkl tl hulhexmx. px'ee atox mh kxteer lmxi ni hnk ztfx by px ptgm mh dxxi hnk fxlltzxl ltyx.\n",
    "           "
   ]
  },
  {
   "cell_type": "code",
   "execution_count": 26,
   "metadata": {},
   "outputs": [
    {
     "name": "stdout",
     "output_type": "stream",
     "text": [
      "computers have rendered all of these old ciphers as obsolete. we'll have to really step up our game if we want to keep our messages safe.\n"
     ]
    }
   ],
   "source": [
    "def blind_decoder(phrase):\n",
    "    decoded = \"\"\n",
    "    alphabet = ['a', 'b', 'c', 'd', 'e', 'f', 'g', 'h', 'i', 'j', 'k', 'l', 'm', 'n', 'o', 'p', 'q', 'r', 's', 't', 'u', 'v', 'w', 'x', 'y', 'z']\n",
    "    split = list(phrase)\n",
    "    \n",
    "    for i in range(25):\n",
    "        decoded += str(i)\n",
    "        for char in split:\n",
    "            if char == \" \":\n",
    "                decoded += \" \"\n",
    "            elif char == \"!\":\n",
    "                decoded += \"!\"\n",
    "            elif char == \"?\":\n",
    "                decoded += \"?\"\n",
    "            elif char == \".\":\n",
    "                decoded += \".\"\n",
    "            elif char == \"'\":\n",
    "                decoded += \"'\"\n",
    "            else:\n",
    "                index = alphabet.index(char)\n",
    "                if index + i > 25:\n",
    "                    new_index = ((index + i)%25)-1\n",
    "                    decoded += alphabet[new_index]\n",
    "                else:\n",
    "                    decoded += alphabet[index + i]\n",
    "    \n",
    "    return decoded\n",
    "\n",
    "message = \"vhfinmxkl atox kxgwxkxw tee hy maxlx hew vbiaxkl tl hulhexmx. px'ee atox mh kxteer lmxi ni hnk ztfx by px ptgm mh dxxi hnk fxlltzxl ltyx.\"\n",
    "print(decoder(message,7))"
   ]
  },
  {
   "cell_type": "markdown",
   "metadata": {},
   "source": [
    "#### Step 5: The Vigenère Cipher\n",
    "\n",
    "Great work! While you were working on the brute force cracking of the cipher, Vishal sent over another letter. That guy is a letter machine!\n",
    "\n",
    "          The Vigenère Cipher is a polyalphabetic substitution cipher, as opposed to the Caesar Cipher which was a monoalphabetic substitution cipher. What this means is that opposed to having a single shift that is applied to every letter, the Vigenère Cipher has a different shift for each individual letter. The value of the shift for each letter is determined by a given keyword.\n",
    "           \n",
    "           Consider the message\n",
    "           \n",
    "               barry is the spy\n",
    "\n",
    "           If we want to code this message, first we choose a keyword. For this example, we'll use the keyword\n",
    "           \n",
    "               dog\n",
    "               \n",
    "           Now we use the repeat the keyword over and over to generate a _keyword phrase_ that is the same length as the message we want to code. So if we want to code the message \"barry is the spy\" our _keyword phrase_ is \"dogdo gd ogd ogd\". Now we are ready to start coding our message. We shift the each letter of our message by the place value of the corresponding letter in the keyword phrase, assuming that \"a\" has a place value of 0, \"b\" has a place value of 1, and so forth. Remember, we zero-index because this is Python we're talking about!\n",
    "\n",
    "                        message:       b  a  r  r  y    i  s   t  h  e   s  p  y\n",
    "                \n",
    "                 keyword phrase:       d  o  g  d  o    g  d   o  g  d   o  g  d\n",
    "                 \n",
    "          resulting place value:       4  14 15 12 16   24 11  21 25 22  22 17 5\n",
    "      \n",
    "            So we shift \"b\", which has an index of 1, by the index of \"d\", which is 3. This gives us an place value of 4, which is \"e\". Then continue the trend: we shift \"a\" by the place value of \"o\", 14, and get \"o\" again, we shift \"r\" by the place value of \"g\", 15, and get \"x\", shift the next \"r\" by 12 places and \"u\", and so forth. Once we complete all the shifts we end up with our coded message:\n",
    "            \n",
    "                eoxum ov hnh gvb\n",
    "                \n",
    "            As you can imagine, this is a lot harder to crack without knowing the keyword! So now comes the hard part. I'll give you a message and the keyword, and you'll see if you can figure out how to crack it! Ready? Okay here's my message:\n",
    "            \n",
    "                dfc aruw fsti gr vjtwhr wznj? vmph otis! cbx swv jipreneo uhllj kpi rahjib eg fjdkwkedhmp!\n",
    "                \n",
    "            and the keyword to decode my message is \n",
    "            \n",
    "                friends\n",
    "                \n",
    "            Because that's what we are! Good luck friend!\n",
    "           \n",
    "Decode the message.\n",
    "\n",
    "**NOTE:** Watch out for spaces and punctuation! When there's a space or punctuation mark in the original message, there should be a space/punctuation mark in the corresponding repeated-keyword string as well! "
   ]
  },
  {
   "cell_type": "code",
   "execution_count": 33,
   "metadata": {},
   "outputs": [
    {
     "name": "stdout",
     "output_type": "stream",
     "text": [
      "you were able to decode this? nice work! you are becoming quite the expert at crytography!\n"
     ]
    }
   ],
   "source": [
    "def vigenere_decoder(message, keyword):\n",
    "    decoded = \"\"\n",
    "    alphabet = ['a', 'b', 'c', 'd', 'e', 'f', 'g', 'h', 'i', 'j', 'k', 'l', 'm', 'n', 'o', 'p', 'q', 'r', 's', 't', 'u', 'v', 'w', 'x', 'y', 'z']\n",
    "    index = 0\n",
    "    \n",
    "    for char in message:\n",
    "        if char == \" \":\n",
    "            decoded += \" \"\n",
    "        elif char == \"!\":\n",
    "            decoded += \"!\"\n",
    "        elif char == \"?\":\n",
    "            decoded += \"?\"\n",
    "        else:\n",
    "            if index > (len(keyword)-1):\n",
    "                index = 0\n",
    "            keyword_index = alphabet.index(keyword[index])\n",
    "            char_index = alphabet.index(char)\n",
    "            decoded += alphabet[char_index - keyword_index]\n",
    "            index += 1\n",
    "    \n",
    "    return decoded\n",
    "\n",
    "code = \"dfc aruw fsti gr vjtwhr wznj? vmph otis! cbx swv jipreneo uhllj kpi rahjib eg fjdkwkedhmp!\"\n",
    "print(vigenere_decoder(code, \"friends\"))"
   ]
  },
  {
   "cell_type": "markdown",
   "metadata": {
    "collapsed": true
   },
   "source": [
    "#### Step 6: Send a message with the  Vigenère Cipher\n",
    "Write a function that can encode a message using a given keyword and write out a message.\n",
    "\n",
    "*As a bonus, try calling your decoder function on the result of your encryption function. You should get the original message back!*"
   ]
  },
  {
   "cell_type": "code",
   "execution_count": 2,
   "metadata": {},
   "outputs": [
    {
     "name": "stdout",
     "output_type": "stream",
     "text": [
      "ssmv gkl kadh cl uhw vkys\n"
     ]
    }
   ],
   "source": [
    "def vigenere_coder(message, keyword):\n",
    "    coded = \"\"\n",
    "    alphabet = ['a', 'b', 'c', 'd', 'e', 'f', 'g', 'h', 'i', 'j', 'k', 'l', 'm', 'n', 'o', 'p', 'q', 'r', 's', 't', 'u', 'v', 'w', 'x', 'y', 'z']\n",
    "    index = 0\n",
    "    \n",
    "    for char in message:\n",
    "        if char == \" \":\n",
    "            coded += \" \"\n",
    "        elif char == \"!\":\n",
    "            coded += \"!\"\n",
    "        elif char == \"?\":\n",
    "            coded += \"?\"\n",
    "        else:\n",
    "            if index > (len(keyword)-1):\n",
    "                index = 0\n",
    "            keyword_index = alphabet.index(keyword[index])\n",
    "            char_index = alphabet.index(char)\n",
    "            if char_index + keyword_index > 25:\n",
    "                coded += alphabet[((char_index + keyword_index) % 25) - 1]\n",
    "            else:\n",
    "                coded += alphabet[char_index + keyword_index]\n",
    "            index += 1\n",
    "    \n",
    "    return coded\n",
    "\n",
    "phrase = \"lets see what we got here\"\n",
    "print(vigenere_coder(phrase, \"hotdog\"))"
   ]
  }
 ],
 "metadata": {
  "kernelspec": {
   "display_name": "Python 3 (ipykernel)",
   "language": "python",
   "name": "python3"
  },
  "language_info": {
   "codemirror_mode": {
    "name": "ipython",
    "version": 3
   },
   "file_extension": ".py",
   "mimetype": "text/x-python",
   "name": "python",
   "nbconvert_exporter": "python",
   "pygments_lexer": "ipython3",
   "version": "3.9.12"
  }
 },
 "nbformat": 4,
 "nbformat_minor": 2
}
