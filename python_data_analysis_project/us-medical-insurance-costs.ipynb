{
 "cells": [
  {
   "cell_type": "markdown",
   "metadata": {},
   "source": [
    "# U.S. Medical Insurance Costs"
   ]
  },
  {
   "cell_type": "markdown",
   "metadata": {},
   "source": [
    "In this project, a csv file with medical insurance costs will be investigated using Python fundamentals. The goal of this project will be to analyze various variables within the data to learn more about the patient information in the file and gain insight into potential use cases for the dataset. Below, I have imported the libraries that I will use in the project."
   ]
  },
  {
   "cell_type": "code",
   "execution_count": 64,
   "metadata": {},
   "outputs": [],
   "source": [
    "import pandas as pd\n",
    "import numpy as np"
   ]
  },
  {
   "cell_type": "markdown",
   "metadata": {},
   "source": [
    "With the below code, the data is read in as a DataFrame. Using Pandas to explore the data, we can see that there is no missing data and we can read a list of the column names."
   ]
  },
  {
   "cell_type": "code",
   "execution_count": 54,
   "metadata": {},
   "outputs": [
    {
     "name": "stdout",
     "output_type": "stream",
     "text": [
      "Index(['age', 'sex', 'bmi', 'children', 'smoker', 'region', 'charges'], dtype='object')\n",
      "1338\n",
      "age         1338\n",
      "sex         1338\n",
      "bmi         1338\n",
      "children    1338\n",
      "smoker      1338\n",
      "region      1338\n",
      "charges     1338\n",
      "dtype: int64\n"
     ]
    }
   ],
   "source": [
    "df = pd.read_csv('insurance.csv')\n",
    " \n",
    "print(df.columns)\n",
    "\n",
    "print(len(df.index))\n",
    "print(df.count())"
   ]
  },
  {
   "cell_type": "markdown",
   "metadata": {},
   "source": [
    "Here are some more detailed descriptions of the columns. This information is from contextual knowledge of the dataset.\n",
    "* Patient Age\n",
    "* Patient Sex \n",
    "* Patient BMI\n",
    "* Patient Number of Children\n",
    "* Patient Smoking Status\n",
    "* Patient U.S Geopraphical Region\n",
    "* Patient Yearly Medical Insurance Cost"
   ]
  },
  {
   "cell_type": "markdown",
   "metadata": {},
   "source": [
    "### Project Goals\n",
    "\n",
    "* Find out the average age of the patients in the dataset.\n",
    "* Analyze where a majority of the individuals are from.\n",
    "* Look at the different costs between smokers vs. non-smokers.\n",
    "* Figure out what the average age is for someone who has at least one child in this dataset.\n",
    "* Figure out the proportion of male vs female patients.\n",
    "* Determine the max, min, mean, and Interquartile Range of the insurance cost variable."
   ]
  },
  {
   "cell_type": "markdown",
   "metadata": {},
   "source": [
    "Below is a function that returns the mean of any numerical variable in the dataset. The funtion takes a column name from the dataset, in quotes, and returns the mean with a contextual string."
   ]
  },
  {
   "cell_type": "code",
   "execution_count": 36,
   "metadata": {},
   "outputs": [],
   "source": [
    "def mean_var(var):\n",
    "    x = round(np.mean(df[var]), 3)\n",
    "    return \"The average of the \" + str(var) + \" variable is \" + str(x)"
   ]
  },
  {
   "cell_type": "code",
   "execution_count": 37,
   "metadata": {},
   "outputs": [
    {
     "name": "stdout",
     "output_type": "stream",
     "text": [
      "The average of the age variable is 39.207\n"
     ]
    }
   ],
   "source": [
    "print(mean_var('age'))"
   ]
  },
  {
   "cell_type": "markdown",
   "metadata": {},
   "source": [
    "Below is a function that returns the most common observation (the mode) for any variable in the dataset. The function takes a column name from the dataset, in quotes, and returns the mean with a contextual string."
   ]
  },
  {
   "cell_type": "code",
   "execution_count": 42,
   "metadata": {},
   "outputs": [],
   "source": [
    "def mode_var(var):\n",
    "    x = df[var].mode()\n",
    "    return \"The most common observation from the \" + var + \" variable is \" + str(x.iloc[0])\n",
    "\n",
    "# print(df.children.mode())"
   ]
  },
  {
   "cell_type": "markdown",
   "metadata": {},
   "source": [
    "Using the function above, we can determine that the majority of individuals in the dataset are from the Southeast."
   ]
  },
  {
   "cell_type": "code",
   "execution_count": 43,
   "metadata": {},
   "outputs": [
    {
     "name": "stdout",
     "output_type": "stream",
     "text": [
      "The most common observation from the region variable is southeast\n"
     ]
    }
   ],
   "source": [
    "print(mode_var('region'))"
   ]
  },
  {
   "cell_type": "markdown",
   "metadata": {},
   "source": [
    "The code below confirms that there are 4 unique regions in the dataset: ['southwest' 'southeast' 'northwest' 'northeast']\n",
    ". It is important to note that all observations are in the United States."
   ]
  },
  {
   "cell_type": "code",
   "execution_count": 52,
   "metadata": {},
   "outputs": [
    {
     "name": "stdout",
     "output_type": "stream",
     "text": [
      "['southwest' 'southeast' 'northwest' 'northeast']\n"
     ]
    }
   ],
   "source": [
    "print(df.region.unique())"
   ]
  },
  {
   "cell_type": "markdown",
   "metadata": {},
   "source": [
    "The function below takes a variable (column) name, in quotes, as an argument. It then returns the average insurance charges, by observation, associated with that variable. For example, inputting the 'smoker' variable into the function reveals that the average insurance charge is 32050.23 for smokers and 8434.27 for non-smokers in the dataset."
   ]
  },
  {
   "cell_type": "code",
   "execution_count": 49,
   "metadata": {},
   "outputs": [
    {
     "name": "stdout",
     "output_type": "stream",
     "text": [
      "  smoker   charges\n",
      "0     no   8434.27\n",
      "1    yes  32050.23\n"
     ]
    }
   ],
   "source": [
    "def cost_by_var(var):\n",
    "    columns_list = df.columns.tolist()\n",
    "    drop_columns_list = []\n",
    "    \n",
    "    for column in columns_list:\n",
    "        if column != var and column != 'charges':\n",
    "            drop_columns_list.append(column)\n",
    "            \n",
    "    costs_grouped = df.drop(drop_columns_list, axis = 1).groupby(var).mean().round(2).reset_index()\n",
    "    return costs_grouped\n",
    "\n",
    "print(cost_by_var('smoker'))"
   ]
  },
  {
   "cell_type": "markdown",
   "metadata": {},
   "source": [
    "The function below takes the DataFrame as the argument. It groups the ages of individuals by the number of children they have and then it averages that age. The oldest group are those that have 3 children while, surprisingly, the youngest group are those that have 5 children."
   ]
  },
  {
   "cell_type": "code",
   "execution_count": 55,
   "metadata": {},
   "outputs": [
    {
     "name": "stdout",
     "output_type": "stream",
     "text": [
      "   children   age\n",
      "0         0  38.4\n",
      "1         1  39.5\n",
      "2         2  39.4\n",
      "3         3  41.6\n",
      "4         4  39.0\n",
      "5         5  35.6\n"
     ]
    }
   ],
   "source": [
    "def avg_age_num_child(data):\n",
    "    columns_list = df.columns.tolist()\n",
    "    drop_columns_list = []\n",
    "    \n",
    "    for column in columns_list:\n",
    "        if column != 'age' and column != 'children':\n",
    "            drop_columns_list.append(column)\n",
    "            \n",
    "    age_groupedby_child = df.drop(drop_columns_list, axis = 1).groupby('children').mean().round(1).reset_index()\n",
    "    return age_groupedby_child\n",
    "\n",
    "print(avg_age_child(df))"
   ]
  },
  {
   "cell_type": "markdown",
   "metadata": {},
   "source": [
    "The function below calculates the average age of patients that have at least one child: 39.78."
   ]
  },
  {
   "cell_type": "code",
   "execution_count": 65,
   "metadata": {},
   "outputs": [
    {
     "name": "stdout",
     "output_type": "stream",
     "text": [
      "The average age of patients in the dataset with at least on child is 39.78\n"
     ]
    }
   ],
   "source": [
    "def avg_age_child(data):\n",
    "    child_df = data[data.children != 0]\n",
    "    avg_age = child_df.age.mean().round(2)\n",
    "    return \"The average age of patients in the dataset with at least on child is \" + str(avg_age)\n",
    "\n",
    "print(avg_age_child(df))"
   ]
  },
  {
   "cell_type": "markdown",
   "metadata": {},
   "source": [
    "The commented out code below served to ensure that I used the right approach to build a dataframe with only patients that have children."
   ]
  },
  {
   "cell_type": "code",
   "execution_count": 69,
   "metadata": {},
   "outputs": [],
   "source": [
    "# child_df = df[df.children != 0]\n",
    "# print(child_df.head(10))"
   ]
  },
  {
   "cell_type": "markdown",
   "metadata": {},
   "source": [
    "The function below shows the ratio of male to female patients in the dataset: %50.52 male and %49.48 female."
   ]
  },
  {
   "cell_type": "code",
   "execution_count": 86,
   "metadata": {},
   "outputs": [
    {
     "name": "stdout",
     "output_type": "stream",
     "text": [
      "The male ratio is %50.52 and the female ratio is %49.48\n"
     ]
    }
   ],
   "source": [
    "def male_female(data):\n",
    "    male_ratio = ((data.sex.value_counts()['male']/len(df))*100).round(2)\n",
    "    female_ratio = ((data.sex.value_counts()['female']/len(df))*100).round(2)\n",
    "    \n",
    "    return \"The male ratio is %\" + str(male_ratio) + \" and the female ratio is %\" + str(female_ratio)\n",
    "    \n",
    "print(male_female(df))"
   ]
  },
  {
   "cell_type": "markdown",
   "metadata": {},
   "source": [
    "The code below produces summary stats for the charges column in the dataset. We can see that the mean of the charges is 13,270.42, the max is 63,770.43, and the min is 1,121.87."
   ]
  },
  {
   "cell_type": "code",
   "execution_count": 87,
   "metadata": {},
   "outputs": [
    {
     "name": "stdout",
     "output_type": "stream",
     "text": [
      "count     1338.000000\n",
      "mean     13270.422265\n",
      "std      12110.011237\n",
      "min       1121.873900\n",
      "25%       4740.287150\n",
      "50%       9382.033000\n",
      "75%      16639.912515\n",
      "max      63770.428010\n",
      "Name: charges, dtype: float64\n"
     ]
    }
   ],
   "source": [
    "print(df.charges.describe())"
   ]
  }
 ],
 "metadata": {
  "kernelspec": {
   "display_name": "Python 3 (ipykernel)",
   "language": "python",
   "name": "python3"
  },
  "language_info": {
   "codemirror_mode": {
    "name": "ipython",
    "version": 3
   },
   "file_extension": ".py",
   "mimetype": "text/x-python",
   "name": "python",
   "nbconvert_exporter": "python",
   "pygments_lexer": "ipython3",
   "version": "3.9.12"
  }
 },
 "nbformat": 4,
 "nbformat_minor": 4
}
